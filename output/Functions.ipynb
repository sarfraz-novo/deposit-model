{
 "cells": [
  {
   "cell_type": "markdown",
   "id": "817bbbfe-3237-45e1-9b62-a3514c370a73",
   "metadata": {},
   "source": [
    "### Fetch data"
   ]
  },
  {
   "cell_type": "markdown",
   "id": "28f50487-b06f-4488-ad49-d685268a8234",
   "metadata": {},
   "source": [
    "#### Load dependencies"
   ]
  },
  {
   "cell_type": "code",
   "execution_count": 17,
   "id": "7429d561-fca8-44ec-980c-275e4d92e150",
   "metadata": {},
   "outputs": [],
   "source": [
    "# path variables\n",
    "import sys\n",
    "sys.path.insert(0, '/Users/sarfrazahmed/Documents/projects/deposit-model/conf')\n",
    "from config import SQLQuery\n",
    "\n",
    "# core libraries\n",
    "import pandas as pd\n",
    "import numpy as np\n",
    "from xgboost import XGBClassifier, plot_importance\n",
    "from sklearn.model_selection import train_test_split\n",
    "from sklearn import tree\n",
    "from sklearn.metrics import classification_report, confusion_matrix, accuracy_score, roc_curve, auc, f1_score, roc_auc_score\n",
    "from scipy.stats import ks_2samp\n",
    "\n",
    "# plotting libraries\n",
    "import matplotlib.pyplot as plt\n",
    "import plotly.express as px\n",
    "import plotly.graph_objects as go\n",
    "import plotly.figure_factory as ff\n",
    "import plotly.io as pio\n",
    "from pandas_profiling import ProfileReport\n",
    "import scikitplot as skplt\n",
    "\n",
    "# setting constants\n",
    "pio.templates.default = 'plotly_dark'\n",
    "pd.set_option('display.max_rows', 500)\n",
    "pd.set_option('display.max_columns', 500)\n",
    "color_map = {'high': '#00cc96', 'low': '#636efa'}\n",
    "\n",
    "import warnings\n",
    "warnings.simplefilter(action='ignore', category=FutureWarning)"
   ]
  },
  {
   "cell_type": "markdown",
   "id": "1121ad52",
   "metadata": {},
   "source": [
    "### Fetching Data"
   ]
  },
  {
   "cell_type": "code",
   "execution_count": 4,
   "id": "bce2ad3f-8578-4d08-ba16-7b56450b5da7",
   "metadata": {},
   "outputs": [
    {
     "data": {
      "text/plain": [
       "(110642, 102)"
      ]
     },
     "execution_count": 4,
     "metadata": {},
     "output_type": "execute_result"
    }
   ],
   "source": [
    "querySno = SQLQuery('snowflake')\n",
    "q = querySno\n",
    "\n",
    "df_raw = q(\"\"\"with \n",
    "\n",
    "TRANSACTIONS AS -- get all credit transactions\n",
    "(\n",
    "    select BUSINESS_ID,\n",
    "           TRANSACTION_DATE,\n",
    "           AMOUNT \n",
    "  from \"PROD_DB\".\"DATA\".\"TRANSACTIONS\" \n",
    "  where type='credit' and status='active'\n",
    "  group by 1,2,3\n",
    "),\n",
    "\n",
    "BUSINESS_DETAIL as -- get all business accounts created between Jan 2021 and Feb 2022\n",
    "(\n",
    "  select *\n",
    "  from \"PROD_DB\".\"DATA\".\"BUSINESSES\"\n",
    "  where ACCOUNT_CREATE_DATE between '2021-01-01' and '2022-02-28'\n",
    "),\n",
    "\n",
    "ALLOY_PERSONS as -- get all the alloy persons data (max of application_versions_id in case of duplicates)\n",
    "(\n",
    "  select * from (\n",
    "select * ,\n",
    "       row_number() over (partition by APPLICATION_ID order by APPLICATION_VERSION_ID desc) as rank\n",
    "from \"PROD_DB\".\"DATA\".\"ALLOY_EVALUATIONS_PERSONS\") \n",
    "where rank=1\n",
    "),\n",
    "\n",
    "APPLICATION_DETAIL as -- get all entries from applications table\n",
    "(\n",
    "  select *\n",
    "  from \"PROD_DB\".\"DATA\".\"APPLICATIONS\"\n",
    "),\n",
    "\n",
    "BASE AS -- create base table with business and transactions\n",
    "(\n",
    "    select b.BUSINESS_ID,b.APPLICATION_ID,sum(t.amount) as total_credit_amount\n",
    "    from BUSINESS_DETAIL b \n",
    "    inner join TRANSACTIONS t\n",
    "    on b.BUSINESS_ID=t.BUSINESS_ID\n",
    "    where DATEDIFF(day, ACCOUNT_CREATE_DATE, TRANSACTION_DATE) between 0 AND 60\n",
    "    group by 1,2\n",
    ")\n",
    "\n",
    "    select * \n",
    "    from base\n",
    "    left join APPLICATION_DETAIL B\n",
    "    on base.APPLICATION_ID = B.APPLICATION_ID\"\"\")\n",
    "\n",
    "df_raw.shape"
   ]
  },
  {
   "cell_type": "code",
   "execution_count": 39,
   "id": "505657e0",
   "metadata": {},
   "outputs": [
    {
     "data": {
      "text/plain": [
       "(38501, 103)"
      ]
     },
     "execution_count": 39,
     "metadata": {},
     "output_type": "execute_result"
    }
   ],
   "source": [
    "# 12 months revenue from account creation date\n",
    "querySno = SQLQuery('snowflake')\n",
    "q = querySno\n",
    "\n",
    "df_raw = q(\"\"\"with \n",
    "\n",
    "REV AS -- get all credit transactions\n",
    "(\n",
    "    select BUSINESS_ID,\n",
    "           TRANSACTION_DATE,\n",
    "           Abs(AMOUNT)*0.0185 as REVENUE \n",
    "  from \"PROD_DB\".\"DATA\".\"TRANSACTIONS\" \n",
    "  where type='debit' and status='active' and medium='POS Withdrawal'\n",
    "  group by 1,2,3\n",
    "),\n",
    "\n",
    "BUSINESS_DETAIL as -- get all business accounts created between Jan 2021 and May 2022\n",
    "(\n",
    "  select *\n",
    "  from \"PROD_DB\".\"DATA\".\"BUSINESSES\"\n",
    "  where ACCOUNT_CREATE_DATE between '2021-01-01' and '2021-05-31'\n",
    "),\n",
    "\n",
    "\n",
    "APPLICATION_DETAIL as -- get all entries from applications table\n",
    "(\n",
    "  select *\n",
    "  from \"PROD_DB\".\"DATA\".\"APPLICATIONS\"\n",
    "),\n",
    "\n",
    "BASE AS -- create base table with business and transactions\n",
    "(\n",
    "    select b.BUSINESS_ID,b.APPLICATION_ID,sum(t.REVENUE) as total_revenue\n",
    "    from BUSINESS_DETAIL b \n",
    "    inner join REV t\n",
    "    on b.BUSINESS_ID=t.BUSINESS_ID\n",
    "    where DATEDIFF(day, ACCOUNT_CREATE_DATE, TRANSACTION_DATE) between 0 AND 365\n",
    "    group by 1,2\n",
    "),\n",
    "\n",
    "TRANSACTIONS AS -- get all credit transactions\n",
    "(\n",
    "    select BUSINESS_ID,\n",
    "           TRANSACTION_DATE,\n",
    "           AMOUNT \n",
    "  from \"PROD_DB\".\"DATA\".\"TRANSACTIONS\" \n",
    "  where type='credit' and status='active'\n",
    "  group by 1,2,3\n",
    "),\n",
    "\n",
    "FINAL_TRANSACTIONS AS \n",
    "(\n",
    "  select b.BUSINESS_ID,b.APPLICATION_ID,sum(t.AMOUNT) as total_credit_amount\n",
    "    from BUSINESS_DETAIL b \n",
    "    inner join TRANSACTIONS t\n",
    "    on b.BUSINESS_ID=t.BUSINESS_ID\n",
    "    where DATEDIFF(day, ACCOUNT_CREATE_DATE, TRANSACTION_DATE) between 0 AND 60\n",
    "    group by 1,2\n",
    " )\n",
    "\n",
    "    select base.*,FINAL_TRANSACTIONS.total_credit_amount,APPLICATION_DETAIL.*\n",
    "    from base\n",
    "    inner join FINAL_TRANSACTIONS\n",
    "    on base.APPLICATION_ID = FINAL_TRANSACTIONS.APPLICATION_ID\n",
    "    left join APPLICATION_DETAIL\n",
    "    on base.APPLICATION_ID = APPLICATION_DETAIL.APPLICATION_ID\n",
    "\"\"\")\n",
    "\n",
    "df_raw.shape"
   ]
  },
  {
   "cell_type": "markdown",
   "id": "bb326d5d-38c7-4656-b35a-5227e44518f3",
   "metadata": {},
   "source": [
    "#### Add target variable"
   ]
  },
  {
   "cell_type": "code",
   "execution_count": 68,
   "id": "c96873d6-d178-4040-8d7c-a5755f499f22",
   "metadata": {
    "tags": []
   },
   "outputs": [
    {
     "name": "stdout",
     "output_type": "stream",
     "text": [
      "0    53190\n",
      "1    49719\n",
      "Name: deposit_class, dtype: int64\n"
     ]
    },
    {
     "data": {
      "text/plain": [
       "(102909, 103)"
      ]
     },
     "execution_count": 68,
     "metadata": {},
     "output_type": "execute_result"
    }
   ],
   "source": [
    "df = df_raw.copy(deep=True)\n",
    "df['deposit_class'] = np.where(df['total_credit_amount']<800, 0, np.where(df['total_credit_amount']>1200, 1, 'mid'))\n",
    "df = df[df['deposit_class'] != 'mid']\n",
    "print(df['deposit_class'].value_counts())\n",
    "df.shape"
   ]
  },
  {
   "cell_type": "markdown",
   "id": "d442695f",
   "metadata": {},
   "source": [
    "#### Derived variables"
   ]
  },
  {
   "cell_type": "code",
   "execution_count": 69,
   "id": "de4915dd",
   "metadata": {},
   "outputs": [],
   "source": [
    "# Application Completion Duration\n",
    "df['application_completion_duration'] = (df['application_complete_datetime'] - df['application_start_datetime']).astype('timedelta64[m]')\n",
    "\n",
    "# Email Domain\n",
    "df['email_domain_variable'] = np.where(df['email_domain'].isin(['gmail.com', 'yahoo.com', 'outlook.com', 'icloud.com', 'hotmail.com']), df['email_domain'], 'others')\n",
    "\n",
    "# Week Number\n",
    "df['week'] = df['application_start_datetime'].dt.week\n",
    "\n",
    "# Business Age\n",
    "df['date_of_establishment_dt'] = pd.to_datetime(df['date_of_establishment'], format='%Y-%m', errors='coerce').dropna()\n",
    "df['business_age'] = round((df['application_start_datetime'] - df['date_of_establishment_dt']) / np.timedelta64(1, 'Y'),2)\n",
    "df['business_age'] = df['business_age'].fillna(0)\n",
    "\n",
    "# Number of Employees\n",
    "df[\"number_of_employees\"] = pd.to_numeric(df[\"number_of_employees\"])\n",
    "df['number_of_employees_bin'] = df[\"number_of_employees\"]\n",
    "df['number_of_employees_bin'] = np.where((df['number_of_employees']>=5) & (df['number_of_employees']<=10), '5-10', \n",
    "                                np.where((df['number_of_employees']>10) & (df['number_of_employees']<=20), '11-20', \n",
    "                                np.where((df['number_of_employees']>20), '20+', df['number_of_employees_bin'])))\n",
    "\n",
    "# Website Flag\n",
    "df['website_flag'] = np.where(df['website'] != df['website'], 'Offline', 'Online')"
   ]
  },
  {
   "cell_type": "markdown",
   "id": "d6f0e481",
   "metadata": {},
   "source": [
    "#### List dependent and independent"
   ]
  },
  {
   "cell_type": "code",
   "execution_count": 70,
   "id": "ddf7e04b",
   "metadata": {},
   "outputs": [],
   "source": [
    "dependent_variable = ['deposit_class']\n",
    "independent_variables = ['business_type',\n",
    "                         'business_address_state',\n",
    "                         'email_domain_variable',\n",
    "                         'application_completion_duration',\n",
    "                         'application_channel',\n",
    "                         'estimated_monthly_revenue', \n",
    "                         'incoming_ach_payments',\n",
    "                         'check_deposit_amount',\n",
    "                         'incoming_wire_transfer',\n",
    "                         'outgoing_ach_and_checks',\n",
    "                         'outgoing_wire_transfers',\n",
    "                         'business_age',\n",
    "                         'industry_category_name',\n",
    "                         'number_of_employees_bin',\n",
    "                         'website_flag',\n",
    "                         'high_risk_industry',\n",
    "                         'aml_risk_score']"
   ]
  },
  {
   "cell_type": "markdown",
   "id": "47cd8d59",
   "metadata": {},
   "source": [
    "#### Drop null rows"
   ]
  },
  {
   "cell_type": "code",
   "execution_count": 71,
   "id": "4792c42e",
   "metadata": {},
   "outputs": [
    {
     "name": "stdout",
     "output_type": "stream",
     "text": [
      "(102909, 110)\n",
      "(102843, 110)\n"
     ]
    }
   ],
   "source": [
    "print(df.shape)\n",
    "df.dropna(subset=independent_variables, inplace=True)\n",
    "print(df.shape)"
   ]
  },
  {
   "cell_type": "markdown",
   "id": "7e6d95ba",
   "metadata": {},
   "source": [
    "#### Encode categorical variables"
   ]
  },
  {
   "cell_type": "code",
   "execution_count": 72,
   "id": "9f5e28b4",
   "metadata": {},
   "outputs": [
    {
     "data": {
      "text/html": [
       "<div>\n",
       "<style scoped>\n",
       "    .dataframe tbody tr th:only-of-type {\n",
       "        vertical-align: middle;\n",
       "    }\n",
       "\n",
       "    .dataframe tbody tr th {\n",
       "        vertical-align: top;\n",
       "    }\n",
       "\n",
       "    .dataframe thead th {\n",
       "        text-align: right;\n",
       "    }\n",
       "</style>\n",
       "<table border=\"1\" class=\"dataframe\">\n",
       "  <thead>\n",
       "    <tr style=\"text-align: right;\">\n",
       "      <th></th>\n",
       "      <th>business_type</th>\n",
       "      <th>business_address_state</th>\n",
       "      <th>email_domain_variable</th>\n",
       "      <th>application_completion_duration</th>\n",
       "      <th>application_channel</th>\n",
       "      <th>estimated_monthly_revenue</th>\n",
       "      <th>incoming_ach_payments</th>\n",
       "      <th>check_deposit_amount</th>\n",
       "      <th>incoming_wire_transfer</th>\n",
       "      <th>outgoing_ach_and_checks</th>\n",
       "      <th>outgoing_wire_transfers</th>\n",
       "      <th>business_age</th>\n",
       "      <th>industry_category_name</th>\n",
       "      <th>number_of_employees_bin</th>\n",
       "      <th>website_flag</th>\n",
       "      <th>high_risk_industry</th>\n",
       "      <th>aml_risk_score</th>\n",
       "    </tr>\n",
       "  </thead>\n",
       "  <tbody>\n",
       "    <tr>\n",
       "      <th>0</th>\n",
       "      <td>1</td>\n",
       "      <td>9</td>\n",
       "      <td>0</td>\n",
       "      <td>24.0</td>\n",
       "      <td>6</td>\n",
       "      <td>2</td>\n",
       "      <td>2</td>\n",
       "      <td>2</td>\n",
       "      <td>2</td>\n",
       "      <td>2</td>\n",
       "      <td>2</td>\n",
       "      <td>0.10</td>\n",
       "      <td>16</td>\n",
       "      <td>0</td>\n",
       "      <td>1</td>\n",
       "      <td>1</td>\n",
       "      <td>221.0</td>\n",
       "    </tr>\n",
       "    <tr>\n",
       "      <th>1</th>\n",
       "      <td>3</td>\n",
       "      <td>4</td>\n",
       "      <td>0</td>\n",
       "      <td>13.0</td>\n",
       "      <td>0</td>\n",
       "      <td>2</td>\n",
       "      <td>2</td>\n",
       "      <td>2</td>\n",
       "      <td>0</td>\n",
       "      <td>5</td>\n",
       "      <td>0</td>\n",
       "      <td>0.00</td>\n",
       "      <td>1</td>\n",
       "      <td>0</td>\n",
       "      <td>0</td>\n",
       "      <td>0</td>\n",
       "      <td>233.0</td>\n",
       "    </tr>\n",
       "    <tr>\n",
       "      <th>2</th>\n",
       "      <td>3</td>\n",
       "      <td>45</td>\n",
       "      <td>2</td>\n",
       "      <td>30.0</td>\n",
       "      <td>4</td>\n",
       "      <td>2</td>\n",
       "      <td>5</td>\n",
       "      <td>5</td>\n",
       "      <td>5</td>\n",
       "      <td>5</td>\n",
       "      <td>5</td>\n",
       "      <td>0.00</td>\n",
       "      <td>16</td>\n",
       "      <td>0</td>\n",
       "      <td>0</td>\n",
       "      <td>0</td>\n",
       "      <td>215.0</td>\n",
       "    </tr>\n",
       "    <tr>\n",
       "      <th>3</th>\n",
       "      <td>1</td>\n",
       "      <td>3</td>\n",
       "      <td>0</td>\n",
       "      <td>15.0</td>\n",
       "      <td>0</td>\n",
       "      <td>3</td>\n",
       "      <td>4</td>\n",
       "      <td>4</td>\n",
       "      <td>4</td>\n",
       "      <td>4</td>\n",
       "      <td>4</td>\n",
       "      <td>0.26</td>\n",
       "      <td>6</td>\n",
       "      <td>6</td>\n",
       "      <td>0</td>\n",
       "      <td>0</td>\n",
       "      <td>205.0</td>\n",
       "    </tr>\n",
       "    <tr>\n",
       "      <th>4</th>\n",
       "      <td>3</td>\n",
       "      <td>4</td>\n",
       "      <td>0</td>\n",
       "      <td>12.0</td>\n",
       "      <td>6</td>\n",
       "      <td>2</td>\n",
       "      <td>2</td>\n",
       "      <td>5</td>\n",
       "      <td>0</td>\n",
       "      <td>2</td>\n",
       "      <td>0</td>\n",
       "      <td>0.00</td>\n",
       "      <td>16</td>\n",
       "      <td>0</td>\n",
       "      <td>1</td>\n",
       "      <td>0</td>\n",
       "      <td>231.0</td>\n",
       "    </tr>\n",
       "  </tbody>\n",
       "</table>\n",
       "</div>"
      ],
      "text/plain": [
       "   business_type  business_address_state  email_domain_variable  \\\n",
       "0              1                       9                      0   \n",
       "1              3                       4                      0   \n",
       "2              3                      45                      2   \n",
       "3              1                       3                      0   \n",
       "4              3                       4                      0   \n",
       "\n",
       "   application_completion_duration  application_channel  \\\n",
       "0                             24.0                    6   \n",
       "1                             13.0                    0   \n",
       "2                             30.0                    4   \n",
       "3                             15.0                    0   \n",
       "4                             12.0                    6   \n",
       "\n",
       "   estimated_monthly_revenue  incoming_ach_payments  check_deposit_amount  \\\n",
       "0                          2                      2                     2   \n",
       "1                          2                      2                     2   \n",
       "2                          2                      5                     5   \n",
       "3                          3                      4                     4   \n",
       "4                          2                      2                     5   \n",
       "\n",
       "   incoming_wire_transfer  outgoing_ach_and_checks  outgoing_wire_transfers  \\\n",
       "0                       2                        2                        2   \n",
       "1                       0                        5                        0   \n",
       "2                       5                        5                        5   \n",
       "3                       4                        4                        4   \n",
       "4                       0                        2                        0   \n",
       "\n",
       "   business_age  industry_category_name  number_of_employees_bin  \\\n",
       "0          0.10                      16                        0   \n",
       "1          0.00                       1                        0   \n",
       "2          0.00                      16                        0   \n",
       "3          0.26                       6                        6   \n",
       "4          0.00                      16                        0   \n",
       "\n",
       "   website_flag  high_risk_industry  aml_risk_score  \n",
       "0             1                   1           221.0  \n",
       "1             0                   0           233.0  \n",
       "2             0                   0           215.0  \n",
       "3             0                   0           205.0  \n",
       "4             1                   0           231.0  "
      ]
     },
     "execution_count": 72,
     "metadata": {},
     "output_type": "execute_result"
    }
   ],
   "source": [
    "for variable in list(df[independent_variables].select_dtypes(include=['object']).columns):\n",
    "    df[variable]=df[variable].astype('category').cat.codes\n",
    "df[independent_variables].head()"
   ]
  },
  {
   "cell_type": "markdown",
   "id": "a77b76af",
   "metadata": {},
   "source": [
    "#### Train test split"
   ]
  },
  {
   "cell_type": "code",
   "execution_count": 79,
   "id": "cb2edcd8",
   "metadata": {},
   "outputs": [
    {
     "name": "stdout",
     "output_type": "stream",
     "text": [
      "(82274, 17)\n",
      "(20569, 17)\n",
      "(82274, 1)\n",
      "(20569, 1)\n"
     ]
    }
   ],
   "source": [
    "X = df[independent_variables]\n",
    "y = df[dependent_variable]\n",
    "\n",
    "X_train, X_test, y_train, y_test = train_test_split(X, y, test_size=0.2, random_state=42)\n",
    "print(X_train.shape)\n",
    "print(X_test.shape)\n",
    "print(y_train.shape)\n",
    "print(y_test.shape)"
   ]
  },
  {
   "cell_type": "markdown",
   "id": "5e9f18c2",
   "metadata": {},
   "source": [
    "#### XGBoost Fit"
   ]
  },
  {
   "cell_type": "code",
   "execution_count": 80,
   "id": "1333f644",
   "metadata": {},
   "outputs": [
    {
     "name": "stderr",
     "output_type": "stream",
     "text": [
      "/opt/homebrew/Caskroom/miniforge/base/envs/ds/lib/python3.9/site-packages/xgboost/sklearn.py:1224: UserWarning:\n",
      "\n",
      "The use of label encoder in XGBClassifier is deprecated and will be removed in a future release. To remove this warning, do the following: 1) Pass option use_label_encoder=False when constructing XGBClassifier object; and 2) Encode your labels (y) as integers starting with 0, i.e. 0, 1, 2, ..., [num_class - 1].\n",
      "\n",
      "/opt/homebrew/Caskroom/miniforge/base/envs/ds/lib/python3.9/site-packages/sklearn/preprocessing/_label.py:98: DataConversionWarning:\n",
      "\n",
      "A column-vector y was passed when a 1d array was expected. Please change the shape of y to (n_samples, ), for example using ravel().\n",
      "\n",
      "/opt/homebrew/Caskroom/miniforge/base/envs/ds/lib/python3.9/site-packages/sklearn/preprocessing/_label.py:133: DataConversionWarning:\n",
      "\n",
      "A column-vector y was passed when a 1d array was expected. Please change the shape of y to (n_samples, ), for example using ravel().\n",
      "\n"
     ]
    },
    {
     "name": "stdout",
     "output_type": "stream",
     "text": [
      "[16:26:23] WARNING: /Users/runner/miniforge3/conda-bld/xgboost-split_1645117899018/work/src/learner.cc:1115: Starting in XGBoost 1.3.0, the default evaluation metric used with the objective 'binary:logistic' was changed from 'error' to 'logloss'. Explicitly set eval_metric if you'd like to restore the old behavior.\n"
     ]
    },
    {
     "data": {
      "text/html": [
       "<style>#sk-container-id-3 {color: black;background-color: white;}#sk-container-id-3 pre{padding: 0;}#sk-container-id-3 div.sk-toggleable {background-color: white;}#sk-container-id-3 label.sk-toggleable__label {cursor: pointer;display: block;width: 100%;margin-bottom: 0;padding: 0.3em;box-sizing: border-box;text-align: center;}#sk-container-id-3 label.sk-toggleable__label-arrow:before {content: \"▸\";float: left;margin-right: 0.25em;color: #696969;}#sk-container-id-3 label.sk-toggleable__label-arrow:hover:before {color: black;}#sk-container-id-3 div.sk-estimator:hover label.sk-toggleable__label-arrow:before {color: black;}#sk-container-id-3 div.sk-toggleable__content {max-height: 0;max-width: 0;overflow: hidden;text-align: left;background-color: #f0f8ff;}#sk-container-id-3 div.sk-toggleable__content pre {margin: 0.2em;color: black;border-radius: 0.25em;background-color: #f0f8ff;}#sk-container-id-3 input.sk-toggleable__control:checked~div.sk-toggleable__content {max-height: 200px;max-width: 100%;overflow: auto;}#sk-container-id-3 input.sk-toggleable__control:checked~label.sk-toggleable__label-arrow:before {content: \"▾\";}#sk-container-id-3 div.sk-estimator input.sk-toggleable__control:checked~label.sk-toggleable__label {background-color: #d4ebff;}#sk-container-id-3 div.sk-label input.sk-toggleable__control:checked~label.sk-toggleable__label {background-color: #d4ebff;}#sk-container-id-3 input.sk-hidden--visually {border: 0;clip: rect(1px 1px 1px 1px);clip: rect(1px, 1px, 1px, 1px);height: 1px;margin: -1px;overflow: hidden;padding: 0;position: absolute;width: 1px;}#sk-container-id-3 div.sk-estimator {font-family: monospace;background-color: #f0f8ff;border: 1px dotted black;border-radius: 0.25em;box-sizing: border-box;margin-bottom: 0.5em;}#sk-container-id-3 div.sk-estimator:hover {background-color: #d4ebff;}#sk-container-id-3 div.sk-parallel-item::after {content: \"\";width: 100%;border-bottom: 1px solid gray;flex-grow: 1;}#sk-container-id-3 div.sk-label:hover label.sk-toggleable__label {background-color: #d4ebff;}#sk-container-id-3 div.sk-serial::before {content: \"\";position: absolute;border-left: 1px solid gray;box-sizing: border-box;top: 0;bottom: 0;left: 50%;z-index: 0;}#sk-container-id-3 div.sk-serial {display: flex;flex-direction: column;align-items: center;background-color: white;padding-right: 0.2em;padding-left: 0.2em;position: relative;}#sk-container-id-3 div.sk-item {position: relative;z-index: 1;}#sk-container-id-3 div.sk-parallel {display: flex;align-items: stretch;justify-content: center;background-color: white;position: relative;}#sk-container-id-3 div.sk-item::before, #sk-container-id-3 div.sk-parallel-item::before {content: \"\";position: absolute;border-left: 1px solid gray;box-sizing: border-box;top: 0;bottom: 0;left: 50%;z-index: -1;}#sk-container-id-3 div.sk-parallel-item {display: flex;flex-direction: column;z-index: 1;position: relative;background-color: white;}#sk-container-id-3 div.sk-parallel-item:first-child::after {align-self: flex-end;width: 50%;}#sk-container-id-3 div.sk-parallel-item:last-child::after {align-self: flex-start;width: 50%;}#sk-container-id-3 div.sk-parallel-item:only-child::after {width: 0;}#sk-container-id-3 div.sk-dashed-wrapped {border: 1px dashed gray;margin: 0 0.4em 0.5em 0.4em;box-sizing: border-box;padding-bottom: 0.4em;background-color: white;}#sk-container-id-3 div.sk-label label {font-family: monospace;font-weight: bold;display: inline-block;line-height: 1.2em;}#sk-container-id-3 div.sk-label-container {text-align: center;}#sk-container-id-3 div.sk-container {/* jupyter's `normalize.less` sets `[hidden] { display: none; }` but bootstrap.min.css set `[hidden] { display: none !important; }` so we also need the `!important` here to be able to override the default hidden behavior on the sphinx rendered scikit-learn.org. See: https://github.com/scikit-learn/scikit-learn/issues/21755 */display: inline-block !important;position: relative;}#sk-container-id-3 div.sk-text-repr-fallback {display: none;}</style><div id=\"sk-container-id-3\" class=\"sk-top-container\"><div class=\"sk-text-repr-fallback\"><pre>XGBClassifier(base_score=0.5, booster=&#x27;gbtree&#x27;, colsample_bylevel=1,\n",
       "              colsample_bynode=1, colsample_bytree=1, enable_categorical=False,\n",
       "              gamma=0, gpu_id=-1, importance_type=None,\n",
       "              interaction_constraints=&#x27;&#x27;, learning_rate=0.300000012,\n",
       "              max_delta_step=0, max_depth=6, min_child_weight=1, missing=nan,\n",
       "              monotone_constraints=&#x27;()&#x27;, n_estimators=100, n_jobs=8,\n",
       "              num_parallel_tree=1, predictor=&#x27;auto&#x27;, random_state=0,\n",
       "              reg_alpha=0, reg_lambda=1, scale_pos_weight=1, subsample=1,\n",
       "              tree_method=&#x27;exact&#x27;, validate_parameters=1, verbosity=None)</pre><b>In a Jupyter environment, please rerun this cell to show the HTML representation or trust the notebook. <br />On GitHub, the HTML representation is unable to render, please try loading this page with nbviewer.org.</b></div><div class=\"sk-container\" hidden><div class=\"sk-item\"><div class=\"sk-estimator sk-toggleable\"><input class=\"sk-toggleable__control sk-hidden--visually\" id=\"sk-estimator-id-3\" type=\"checkbox\" checked><label for=\"sk-estimator-id-3\" class=\"sk-toggleable__label sk-toggleable__label-arrow\">XGBClassifier</label><div class=\"sk-toggleable__content\"><pre>XGBClassifier(base_score=0.5, booster=&#x27;gbtree&#x27;, colsample_bylevel=1,\n",
       "              colsample_bynode=1, colsample_bytree=1, enable_categorical=False,\n",
       "              gamma=0, gpu_id=-1, importance_type=None,\n",
       "              interaction_constraints=&#x27;&#x27;, learning_rate=0.300000012,\n",
       "              max_delta_step=0, max_depth=6, min_child_weight=1, missing=nan,\n",
       "              monotone_constraints=&#x27;()&#x27;, n_estimators=100, n_jobs=8,\n",
       "              num_parallel_tree=1, predictor=&#x27;auto&#x27;, random_state=0,\n",
       "              reg_alpha=0, reg_lambda=1, scale_pos_weight=1, subsample=1,\n",
       "              tree_method=&#x27;exact&#x27;, validate_parameters=1, verbosity=None)</pre></div></div></div></div></div>"
      ],
      "text/plain": [
       "XGBClassifier(base_score=0.5, booster='gbtree', colsample_bylevel=1,\n",
       "              colsample_bynode=1, colsample_bytree=1, enable_categorical=False,\n",
       "              gamma=0, gpu_id=-1, importance_type=None,\n",
       "              interaction_constraints='', learning_rate=0.300000012,\n",
       "              max_delta_step=0, max_depth=6, min_child_weight=1, missing=nan,\n",
       "              monotone_constraints='()', n_estimators=100, n_jobs=8,\n",
       "              num_parallel_tree=1, predictor='auto', random_state=0,\n",
       "              reg_alpha=0, reg_lambda=1, scale_pos_weight=1, subsample=1,\n",
       "              tree_method='exact', validate_parameters=1, verbosity=None)"
      ]
     },
     "execution_count": 80,
     "metadata": {},
     "output_type": "execute_result"
    }
   ],
   "source": [
    "model = XGBClassifier()\n",
    "model.fit(X_train[independent_variables], y_train)"
   ]
  },
  {
   "cell_type": "markdown",
   "id": "591b4ee9",
   "metadata": {},
   "source": [
    "#### Train Report"
   ]
  },
  {
   "cell_type": "code",
   "execution_count": 81,
   "id": "26a30735",
   "metadata": {},
   "outputs": [
    {
     "name": "stdout",
     "output_type": "stream",
     "text": [
      "        pred:1  pred:0\n",
      "true:1   26872   12900\n",
      "true:0   11795   30707 \n",
      "\n",
      "Accuracy Score: 0.6998444222962297 \n",
      "\n",
      "              precision    recall  f1-score   support\n",
      "\n",
      "           0       0.70      0.72      0.71     42502\n",
      "           1       0.69      0.68      0.69     39772\n",
      "\n",
      "    accuracy                           0.70     82274\n",
      "   macro avg       0.70      0.70      0.70     82274\n",
      "weighted avg       0.70      0.70      0.70     82274\n",
      "\n"
     ]
    }
   ],
   "source": [
    "y_pred = model.predict(X_train[independent_variables].values)\n",
    "\n",
    "# Confusion Matrix\n",
    "cmtx = pd.DataFrame(\n",
    "    confusion_matrix(y_train, y_pred, labels=['1', '0']), \n",
    "    index=['true:1', 'true:0'], \n",
    "    columns=['pred:1', 'pred:0']\n",
    ")\n",
    "print(cmtx, '\\n')\n",
    "\n",
    "# Accuracy Score\n",
    "print('Accuracy Score:', accuracy_score(y_train, y_pred), '\\n')\n",
    "\n",
    "# Classification Report\n",
    "print(classification_report(y_train, y_pred))"
   ]
  },
  {
   "cell_type": "markdown",
   "id": "2cf0ca35",
   "metadata": {},
   "source": [
    "#### Test Scores"
   ]
  },
  {
   "cell_type": "code",
   "execution_count": 82,
   "id": "6735214b",
   "metadata": {},
   "outputs": [
    {
     "name": "stdout",
     "output_type": "stream",
     "text": [
      "        pred:1  pred:0\n",
      "true:1    6011    3899\n",
      "true:0    3675    6984 \n",
      "\n",
      "Accuracy Score: 0.6317759735524333 \n",
      "\n",
      "              precision    recall  f1-score   support\n",
      "\n",
      "           0       0.64      0.66      0.65     10659\n",
      "           1       0.62      0.61      0.61      9910\n",
      "\n",
      "    accuracy                           0.63     20569\n",
      "   macro avg       0.63      0.63      0.63     20569\n",
      "weighted avg       0.63      0.63      0.63     20569\n",
      "\n"
     ]
    }
   ],
   "source": [
    "y_pred = model.predict(X_test[independent_variables].values)\n",
    "\n",
    "# Confusion Matrix\n",
    "cmtx = pd.DataFrame(\n",
    "    confusion_matrix(y_test, y_pred, labels=['1', '0']), \n",
    "    index=['true:1', 'true:0'], \n",
    "    columns=['pred:1', 'pred:0']\n",
    ")\n",
    "print(cmtx, '\\n')\n",
    "\n",
    "# Accuracy Score\n",
    "print('Accuracy Score:', accuracy_score(y_test, y_pred), '\\n')\n",
    "\n",
    "# Classification Report\n",
    "print(classification_report(y_test, y_pred))"
   ]
  },
  {
   "cell_type": "markdown",
   "id": "0d6fd762",
   "metadata": {},
   "source": [
    "#### Model Metrics Function"
   ]
  },
  {
   "cell_type": "code",
   "execution_count": 14,
   "id": "5ca77877",
   "metadata": {},
   "outputs": [],
   "source": [
    "y_true = y_test.values.flatten().astype(int)\n",
    "y_pred = y_pred.astype(int)\n",
    "predicted_probas = model.predict_proba(X_test)"
   ]
  },
  {
   "cell_type": "code",
   "execution_count": 104,
   "id": "00c1487a",
   "metadata": {},
   "outputs": [
    {
     "data": {
      "text/plain": [
       "xgboost.sklearn.XGBClassifier"
      ]
     },
     "execution_count": 104,
     "metadata": {},
     "output_type": "execute_result"
    }
   ],
   "source": [
    "type(model)"
   ]
  },
  {
   "cell_type": "code",
   "execution_count": 109,
   "id": "0b3c6a97",
   "metadata": {},
   "outputs": [],
   "source": [
    "def model_metrics(model, y_pred, y_true, y_prob):\n",
    "    '''\n",
    "    Returns the evaluation metrics for a binary classification model\n",
    "\n",
    "        Parameters:\n",
    "                model (object): a binary classifier model object\n",
    "                y_pred (array(int)): array of predicted labels consisting of only 0 and 1\n",
    "                y_true (array(int)): array of actual labels consisting of only 0 and 1\n",
    "                y_prob (array(int)): 2 dimensional array of predicted probabilities\n",
    "        \n",
    "        Returns:\n",
    "                accuracy score (int): accuracy score of the binary classifier\n",
    "                confusion matrix (int): confusion matrix of the binary classifier\n",
    "                fpr (int): false positive rate of the binary classifier\n",
    "                tpr (int): true positive rate of the binary classifier\n",
    "                auc (int): area under curve score for the binary classifier\n",
    "                sensitivity (int): sensitivity of the binary classifier\n",
    "                specificity (int): specificity of the binary classifier\n",
    "                f1-score (int): f1-score of the binary classifier\n",
    "                ks-score (int): KS score of the binary classifier\n",
    "                classification report (int): elaborate precision recall report of the binary classifier\n",
    "                gain chart (plot): gain chart plot of the binary classifier\n",
    "                lift chart (plot): lift chart plot of the binary classifier\n",
    "                \n",
    "        Raises:\n",
    "                ValueError: If length of y_pred is not equal to length of y_true or X_test\n",
    "    '''\n",
    "\n",
    "    # Check if arrays are of different length\n",
    "    if len(y_pred) != len(y_true):\n",
    "        raise ValueError('Length of y_pred and y_true is not matching')\n",
    "\n",
    "    # Check if arrays are of different length\n",
    "    if len(y_pred) != len(y_prob):\n",
    "        raise ValueError('Length of y_pred and y_prob is not matching')\n",
    "\n",
    "    # Accuracy Score\n",
    "    print('Accuracy Score:', np.round(accuracy_score(y_true, y_pred), 2), '\\n')\n",
    "\n",
    "    # Confusion Matrix\n",
    "    cmtx = pd.DataFrame(\n",
    "    confusion_matrix(y_true, y_pred, labels=[1, 0]), \n",
    "    index=['true:1', 'true:0'], \n",
    "    columns=['pred:1', 'pred:0'])\n",
    "    print('Confusion Matrix:')\n",
    "    print(cmtx, '\\n')\n",
    "\n",
    "    # FPR, TPR, AUC\n",
    "    fpr, tpr, thresholds = roc_curve(y_true, y_pred)\n",
    "    print('FPR:', np.round(fpr[1],2))\n",
    "    print('TPR:', np.round(tpr[1],2))\n",
    "    print('AUC:', np.round(auc(fpr, tpr), 2), '\\n')\n",
    "\n",
    "    # Sensitivity, Specificity\n",
    "    tn, fp, fn, tp = confusion_matrix(y_true, y_pred).ravel()\n",
    "    print('Sensitivity:', np.round(tp/(tp+fn),2))\n",
    "    print('Specificity:', np.round(tn/(tn+fp),2), '\\n')\n",
    "\n",
    "    # F1 Score\n",
    "    print('F1 Score:', np.round(f1_score(y_true, y_pred), 2), '\\n')\n",
    "\n",
    "    # KS Statistic\n",
    "    print('KS Score:')\n",
    "    print(ks_2samp(y_pred, y_true), '\\n')\n",
    "    \n",
    "    # Classification Report\n",
    "    print('Classification Report:')\n",
    "    print(classification_report(y_true, y_pred))\n",
    "\n",
    "    # Gain chart\n",
    "    print('Gain Chart')\n",
    "    skplt.metrics.plot_cumulative_gain(y_true, predicted_probas, figsize=(10, 6), title_fontsize=18, text_fontsize=16)\n",
    "    plt.show()\n",
    "\n",
    "    # Lift chart\n",
    "    print('Lift Chart')\n",
    "    skplt.metrics.plot_lift_curve(y_true, predicted_probas, figsize=(10, 6), title_fontsize=18, text_fontsize=16)\n",
    "    plt.show()"
   ]
  },
  {
   "cell_type": "code",
   "execution_count": 113,
   "id": "2457fcfa",
   "metadata": {},
   "outputs": [
    {
     "name": "stdout",
     "output_type": "stream",
     "text": [
      "Accuracy Score: 0.63 \n",
      "\n",
      "Confusion Matrix:\n",
      "        pred:1  pred:0\n",
      "true:1    6011    3899\n",
      "true:0    3675    6984 \n",
      "\n",
      "FPR: 0.34\n",
      "TPR: 0.61\n",
      "AUC: 0.63 \n",
      "\n",
      "Sensitivity: 0.61\n",
      "Specificity: 0.66 \n",
      "\n",
      "F1 Score: 0.61 \n",
      "\n",
      "KS Score:\n",
      "KstestResult(statistic=0.01089017453449359, pvalue=0.17307084967705744) \n",
      "\n",
      "Classification Report:\n",
      "              precision    recall  f1-score   support\n",
      "\n",
      "           0       0.64      0.66      0.65     10659\n",
      "           1       0.62      0.61      0.61      9910\n",
      "\n",
      "    accuracy                           0.63     20569\n",
      "   macro avg       0.63      0.63      0.63     20569\n",
      "weighted avg       0.63      0.63      0.63     20569\n",
      "\n",
      "Gain Chart\n"
     ]
    },
    {
     "data": {
      "image/png": "[encoded data removed]",
      "text/plain": [
       "<Figure size 720x432 with 1 Axes>"
      ]
     },
     "metadata": {
      "needs_background": "light"
     },
     "output_type": "display_data"
    },
    {
     "name": "stdout",
     "output_type": "stream",
     "text": [
      "Lift Chart\n"
     ]
    },
    {
     "data": {
      "image/png": "[encoded data removed]",
      "text/plain": [
       "<Figure size 720x432 with 1 Axes>"
      ]
     },
     "metadata": {
      "needs_background": "light"
     },
     "output_type": "display_data"
    }
   ],
   "source": [
    "model_metrics(model, y_pred, y_true, predicted_probas)"
   ]
  },
  {
   "cell_type": "code",
   "execution_count": null,
   "id": "9df194db",
   "metadata": {},
   "outputs": [],
   "source": []
  }
 ],
 "metadata": {
  "kernelspec": {
   "display_name": "Python 3 (ipykernel)",
   "language": "python",
   "name": "python3"
  },
  "language_info": {
   "codemirror_mode": {
    "name": "ipython",
    "version": 3
   },
   "file_extension": ".py",
   "mimetype": "text/x-python",
   "name": "python",
   "nbconvert_exporter": "python",
   "pygments_lexer": "ipython3",
   "version": "3.9.13"
  },
  "vscode": {
   "interpreter": {
    "hash": "5fa8e7a0e7c7188de72acea4ae1bc222d1770499c4c3d36ce32843ef46b20053"
   }
  }
 },
 "nbformat": 4,
 "nbformat_minor": 5
}
