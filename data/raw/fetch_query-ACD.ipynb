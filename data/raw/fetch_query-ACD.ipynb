{
 "cells": [
  {
   "cell_type": "markdown",
   "id": "817bbbfe-3237-45e1-9b62-a3514c370a73",
   "metadata": {},
   "source": [
    "### Fetch data"
   ]
  },
  {
   "cell_type": "markdown",
   "id": "28f50487-b06f-4488-ad49-d685268a8234",
   "metadata": {},
   "source": [
    "#### Load dependencies"
   ]
  },
  {
   "cell_type": "code",
   "execution_count": 29,
   "id": "7429d561-fca8-44ec-980c-275e4d92e150",
   "metadata": {},
   "outputs": [],
   "source": [
    "import sys\n",
    "sys.path.insert(0, '/Users/sarfrazahmed/Documents/projects/deposit-model/conf')\n",
    "import pandas as pd\n",
    "import numpy as np\n",
    "from config import SQLQuery\n",
    "import plotly.express as px\n",
    "import plotly.graph_objects as go\n",
    "pd.set_option('display.max_rows', 500)"
   ]
  },
  {
   "cell_type": "code",
   "execution_count": 5,
   "id": "5f1c6ab5-592d-43d2-b414-a66ed917364f",
   "metadata": {},
   "outputs": [],
   "source": [
    "querySno = SQLQuery('snowflake')\n",
    "q = querySno"
   ]
  },
  {
   "cell_type": "code",
   "execution_count": 6,
   "id": "bce2ad3f-8578-4d08-ba16-7b56450b5da7",
   "metadata": {},
   "outputs": [],
   "source": [
    "df = q(\"\"\"WITH TRANSACTIONS AS\n",
    "(\n",
    "  select BUSINESS_ID,\n",
    "         TRANSACTION_DATE,\n",
    "         AMOUNT as all_credit_trans_amount\n",
    "  from \"PROD_DB\".\"DATA\".\"TRANSACTIONS\" \n",
    "  where type='credit' and status='active'\n",
    "  group by 1,2,3\n",
    "),\n",
    "\n",
    "FIRST_TRANSACTION_DATE as\n",
    "(\n",
    "  select  BUSINESS_ID,\n",
    "          min(TRANSACTION_DATE) as FIRST_DATE\n",
    "  from \"PROD_DB\".\"DATA\".\"TRANSACTIONS\" \n",
    "  where type='credit' and status='active'\n",
    "  group by 1\n",
    "),\n",
    "\n",
    "APPLICATION_DETAIL as \n",
    "(\n",
    "  select  APPLICATION_ID,  \n",
    "          BUSINESS_ID,\n",
    "          ACCOUNT_CREATE_DATE \n",
    "  from \"PROD_DB\".\"DATA\".\"BUSINESSES\"\n",
    "  where ACCOUNT_CREATE_DATE between '2021-01-01' and '2022-02-28'\n",
    "  group by 1,2,3\n",
    "),\n",
    "\n",
    "Final as (\n",
    "    Select \n",
    "       FIRST_TRANSACTION_DATE.BUSINESS_ID,TRANSACTIONS.all_credit_trans_amount,\n",
    "       DATEDIFF(day, ACCOUNT_CREATE_DATE, TRANSACTION_DATE) as DAYS_SINCE_CREATED,\n",
    "       APPLICATION_ID\n",
    "    from TRANSACTIONS \n",
    "    inner join FIRST_TRANSACTION_DATE \n",
    "    on TRANSACTIONS.BUSINESS_ID=FIRST_TRANSACTION_DATE.BUSINESS_ID\n",
    "    inner join APPLICATION_DETAIL \n",
    "    on APPLICATION_DETAIL.BUSINESS_ID=FIRST_TRANSACTION_DATE.BUSINESS_ID\n",
    "    WHERE DATEDIFF(day, ACCOUNT_CREATE_DATE, TRANSACTION_DATE)  BETWEEN 0 AND 60\n",
    ")\n",
    "SELECT *\n",
    "FROM\n",
    "(Select BUSINESS_ID, APPLICATION_ID, SUM(all_credit_trans_amount) AS all_credit_trans_amount\n",
    "from Final\n",
    "GROUP BY 1,2) F\n",
    "LEFT JOIN \"PROD_DB\".\"DATA\".\"BUSINESSES\"\n",
    "ON F.APPLICATION_ID = \"PROD_DB\".\"DATA\".\"BUSINESSES\".APPLICATION_ID\"\"\")"
   ]
  },
  {
   "cell_type": "code",
   "execution_count": 7,
   "id": "c96873d6-d178-4040-8d7c-a5755f499f22",
   "metadata": {
    "tags": []
   },
   "outputs": [
    {
     "data": {
      "text/plain": [
       "low     53190\n",
       "high    49719\n",
       "mid      7733\n",
       "Name: Deposit_Class, dtype: int64"
      ]
     },
     "execution_count": 7,
     "metadata": {},
     "output_type": "execute_result"
    }
   ],
   "source": [
    "df['Deposit_Class'] = np.where(df['all_credit_trans_amount']<800, 'low', np.where(df['all_credit_trans_amount']>1200, 'high', 'mid'))\n",
    "df['Deposit_Class'].value_counts()"
   ]
  },
  {
   "cell_type": "code",
   "execution_count": null,
   "id": "8ef35e38",
   "metadata": {},
   "outputs": [],
   "source": []
  }
 ],
 "metadata": {
  "kernelspec": {
   "display_name": "Python 3 (ipykernel)",
   "language": "python",
   "name": "python3"
  },
  "language_info": {
   "codemirror_mode": {
    "name": "ipython",
    "version": 3
   },
   "file_extension": ".py",
   "mimetype": "text/x-python",
   "name": "python",
   "nbconvert_exporter": "python",
   "pygments_lexer": "ipython3",
   "version": "3.9.13"
  }
 },
 "nbformat": 4,
 "nbformat_minor": 5
}
